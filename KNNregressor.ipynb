{
 "cells": [
  {
   "cell_type": "code",
   "execution_count": 39,
   "metadata": {},
   "outputs": [],
   "source": [
    "from sklearn.datasets import load_boston"
   ]
  },
  {
   "cell_type": "code",
   "execution_count": 122,
   "metadata": {},
   "outputs": [
    {
     "data": {
      "text/plain": [
       "506"
      ]
     },
     "execution_count": 122,
     "metadata": {},
     "output_type": "execute_result"
    }
   ],
   "source": [
    "X, y = load_boston(return_X_y=True)\n",
    "len(X)"
   ]
  },
  {
   "cell_type": "code",
   "execution_count": 41,
   "metadata": {},
   "outputs": [],
   "source": [
    "from sklearn.neighbors import KNeighborsRegressor"
   ]
  },
  {
   "cell_type": "code",
   "execution_count": 42,
   "metadata": {},
   "outputs": [],
   "source": [
    "model = KNeighborsRegressor()"
   ]
  },
  {
   "cell_type": "code",
   "execution_count": 43,
   "metadata": {},
   "outputs": [
    {
     "data": {
      "text/plain": [
       "KNeighborsRegressor(algorithm='auto', leaf_size=30, metric='minkowski',\n",
       "          metric_params=None, n_jobs=1, n_neighbors=5, p=2,\n",
       "          weights='uniform')"
      ]
     },
     "execution_count": 43,
     "metadata": {},
     "output_type": "execute_result"
    }
   ],
   "source": [
    "model.fit(X, y)"
   ]
  },
  {
   "cell_type": "code",
   "execution_count": 44,
   "metadata": {},
   "outputs": [],
   "source": [
    "result = model.predict(X)"
   ]
  },
  {
   "cell_type": "code",
   "execution_count": 45,
   "metadata": {},
   "outputs": [
    {
     "data": {
      "text/plain": [
       "<matplotlib.collections.PathCollection at 0x2b2a8f04470>"
      ]
     },
     "execution_count": 45,
     "metadata": {},
     "output_type": "execute_result"
    },
    {
     "data": {
      "image/png": "[encoded data removed]",
      "text/plain": [
       "<Figure size 432x288 with 1 Axes>"
      ]
     },
     "metadata": {
      "needs_background": "light"
     },
     "output_type": "display_data"
    }
   ],
   "source": [
    "import matplotlib.pyplot as plt\n",
    "plt.scatter(result, y)"
   ]
  },
  {
   "cell_type": "code",
   "execution_count": null,
   "metadata": {},
   "outputs": [],
   "source": [
    "# model fit badly"
   ]
  },
  {
   "cell_type": "code",
   "execution_count": 57,
   "metadata": {},
   "outputs": [],
   "source": [
    "# the dims to scale for the equal weights "
   ]
  },
  {
   "cell_type": "code",
   "execution_count": 102,
   "metadata": {},
   "outputs": [],
   "source": [
    "from sklearn.preprocessing import StandardScaler\n",
    "from sklearn.pipeline import Pipeline\n",
    "from sklearn.model_selection import GridSearchCV\n",
    "import pandas as pd"
   ]
  },
  {
   "cell_type": "markdown",
   "metadata": {},
   "source": [
    "# pipeline 和 网格搜索 来获取最合理的超参数"
   ]
  },
  {
   "cell_type": "code",
   "execution_count": 123,
   "metadata": {},
   "outputs": [
    {
     "name": "stdout",
     "output_type": "stream",
     "text": [
      "{'memory': None, 'steps': [('scale', StandardScaler(copy=True, with_mean=True, with_std=True)), ('model', KNeighborsRegressor(algorithm='auto', leaf_size=30, metric='minkowski',\n",
      "          metric_params=None, n_jobs=1, n_neighbors=3, p=2,\n",
      "          weights='uniform'))], 'scale': StandardScaler(copy=True, with_mean=True, with_std=True), 'model': KNeighborsRegressor(algorithm='auto', leaf_size=30, metric='minkowski',\n",
      "          metric_params=None, n_jobs=1, n_neighbors=3, p=2,\n",
      "          weights='uniform'), 'scale__copy': True, 'scale__with_mean': True, 'scale__with_std': True, 'model__algorithm': 'auto', 'model__leaf_size': 30, 'model__metric': 'minkowski', 'model__metric_params': None, 'model__n_jobs': 1, 'model__n_neighbors': 3, 'model__p': 2, 'model__weights': 'uniform'}\n"
     ]
    }
   ],
   "source": [
    "pipe = Pipeline([\n",
    "    (\"scale\", StandardScaler()),\n",
    "    (\"model\",KNeighborsRegressor(n_neighbors=3))\n",
    "])\n",
    "print(pipe.get_params())\n",
    "model_G = GridSearchCV(estimator=pipe, param_grid={'model__n_neighbors':[1,2,3,4,5,6,7,8,9,10]}, cv=2, return_train_score=True)"
   ]
  },
  {
   "cell_type": "code",
   "execution_count": 124,
   "metadata": {},
   "outputs": [
    {
     "data": {
      "text/plain": [
       "GridSearchCV(cv=2, error_score='raise',\n",
       "       estimator=Pipeline(memory=None,\n",
       "     steps=[('scale', StandardScaler(copy=True, with_mean=True, with_std=True)), ('model', KNeighborsRegressor(algorithm='auto', leaf_size=30, metric='minkowski',\n",
       "          metric_params=None, n_jobs=1, n_neighbors=3, p=2,\n",
       "          weights='uniform'))]),\n",
       "       fit_params=None, iid=True, n_jobs=1,\n",
       "       param_grid={'model__n_neighbors': [1, 2, 3, 4, 5, 6, 7, 8, 9, 10]},\n",
       "       pre_dispatch='2*n_jobs', refit=True, return_train_score=True,\n",
       "       scoring=None, verbose=0)"
      ]
     },
     "execution_count": 124,
     "metadata": {},
     "output_type": "execute_result"
    }
   ],
   "source": [
    "model_G.fit(X, y)"
   ]
  },
  {
   "cell_type": "code",
   "execution_count": 125,
   "metadata": {},
   "outputs": [
    {
     "data": {
      "text/html": [
       "<div>\n",
       "<style scoped>\n",
       "    .dataframe tbody tr th:only-of-type {\n",
       "        vertical-align: middle;\n",
       "    }\n",
       "\n",
       "    .dataframe tbody tr th {\n",
       "        vertical-align: top;\n",
       "    }\n",
       "\n",
       "    .dataframe thead th {\n",
       "        text-align: right;\n",
       "    }\n",
       "</style>\n",
       "<table border=\"1\" class=\"dataframe\">\n",
       "  <thead>\n",
       "    <tr style=\"text-align: right;\">\n",
       "      <th></th>\n",
       "      <th>mean_fit_time</th>\n",
       "      <th>std_fit_time</th>\n",
       "      <th>mean_score_time</th>\n",
       "      <th>std_score_time</th>\n",
       "      <th>param_model__n_neighbors</th>\n",
       "      <th>params</th>\n",
       "      <th>split0_test_score</th>\n",
       "      <th>split1_test_score</th>\n",
       "      <th>mean_test_score</th>\n",
       "      <th>std_test_score</th>\n",
       "      <th>rank_test_score</th>\n",
       "      <th>split0_train_score</th>\n",
       "      <th>split1_train_score</th>\n",
       "      <th>mean_train_score</th>\n",
       "      <th>std_train_score</th>\n",
       "    </tr>\n",
       "  </thead>\n",
       "  <tbody>\n",
       "    <tr>\n",
       "      <th>0</th>\n",
       "      <td>0.002488</td>\n",
       "      <td>4.962683e-04</td>\n",
       "      <td>0.003988</td>\n",
       "      <td>5.960464e-07</td>\n",
       "      <td>1</td>\n",
       "      <td>{'model__n_neighbors': 1}</td>\n",
       "      <td>0.592596</td>\n",
       "      <td>0.507079</td>\n",
       "      <td>0.549837</td>\n",
       "      <td>0.042759</td>\n",
       "      <td>4</td>\n",
       "      <td>1.000000</td>\n",
       "      <td>1.000000</td>\n",
       "      <td>1.000000</td>\n",
       "      <td>0.000000</td>\n",
       "    </tr>\n",
       "    <tr>\n",
       "      <th>1</th>\n",
       "      <td>0.001996</td>\n",
       "      <td>5.960464e-07</td>\n",
       "      <td>0.003495</td>\n",
       "      <td>4.920959e-04</td>\n",
       "      <td>2</td>\n",
       "      <td>{'model__n_neighbors': 2}</td>\n",
       "      <td>0.595784</td>\n",
       "      <td>0.520845</td>\n",
       "      <td>0.558315</td>\n",
       "      <td>0.037469</td>\n",
       "      <td>3</td>\n",
       "      <td>0.924254</td>\n",
       "      <td>0.943121</td>\n",
       "      <td>0.933687</td>\n",
       "      <td>0.009433</td>\n",
       "    </tr>\n",
       "    <tr>\n",
       "      <th>2</th>\n",
       "      <td>0.002988</td>\n",
       "      <td>1.990199e-03</td>\n",
       "      <td>0.022939</td>\n",
       "      <td>1.795316e-02</td>\n",
       "      <td>3</td>\n",
       "      <td>{'model__n_neighbors': 3}</td>\n",
       "      <td>0.621287</td>\n",
       "      <td>0.546187</td>\n",
       "      <td>0.583737</td>\n",
       "      <td>0.037550</td>\n",
       "      <td>1</td>\n",
       "      <td>0.874114</td>\n",
       "      <td>0.930928</td>\n",
       "      <td>0.902521</td>\n",
       "      <td>0.028407</td>\n",
       "    </tr>\n",
       "    <tr>\n",
       "      <th>3</th>\n",
       "      <td>0.007976</td>\n",
       "      <td>3.986239e-03</td>\n",
       "      <td>0.009486</td>\n",
       "      <td>4.478931e-03</td>\n",
       "      <td>4</td>\n",
       "      <td>{'model__n_neighbors': 4}</td>\n",
       "      <td>0.612235</td>\n",
       "      <td>0.524459</td>\n",
       "      <td>0.568347</td>\n",
       "      <td>0.043888</td>\n",
       "      <td>2</td>\n",
       "      <td>0.860737</td>\n",
       "      <td>0.925390</td>\n",
       "      <td>0.893063</td>\n",
       "      <td>0.032327</td>\n",
       "    </tr>\n",
       "    <tr>\n",
       "      <th>4</th>\n",
       "      <td>0.003004</td>\n",
       "      <td>9.871721e-04</td>\n",
       "      <td>0.014450</td>\n",
       "      <td>1.048362e-02</td>\n",
       "      <td>5</td>\n",
       "      <td>{'model__n_neighbors': 5}</td>\n",
       "      <td>0.562667</td>\n",
       "      <td>0.520362</td>\n",
       "      <td>0.541514</td>\n",
       "      <td>0.021152</td>\n",
       "      <td>5</td>\n",
       "      <td>0.835872</td>\n",
       "      <td>0.899671</td>\n",
       "      <td>0.867772</td>\n",
       "      <td>0.031900</td>\n",
       "    </tr>\n",
       "    <tr>\n",
       "      <th>5</th>\n",
       "      <td>0.002987</td>\n",
       "      <td>2.001524e-03</td>\n",
       "      <td>0.007484</td>\n",
       "      <td>4.974604e-04</td>\n",
       "      <td>6</td>\n",
       "      <td>{'model__n_neighbors': 6}</td>\n",
       "      <td>0.533580</td>\n",
       "      <td>0.518775</td>\n",
       "      <td>0.526177</td>\n",
       "      <td>0.007402</td>\n",
       "      <td>6</td>\n",
       "      <td>0.800246</td>\n",
       "      <td>0.877414</td>\n",
       "      <td>0.838830</td>\n",
       "      <td>0.038584</td>\n",
       "    </tr>\n",
       "    <tr>\n",
       "      <th>6</th>\n",
       "      <td>0.002010</td>\n",
       "      <td>9.818077e-04</td>\n",
       "      <td>0.003475</td>\n",
       "      <td>1.511097e-03</td>\n",
       "      <td>7</td>\n",
       "      <td>{'model__n_neighbors': 7}</td>\n",
       "      <td>0.479205</td>\n",
       "      <td>0.507968</td>\n",
       "      <td>0.493587</td>\n",
       "      <td>0.014381</td>\n",
       "      <td>7</td>\n",
       "      <td>0.775465</td>\n",
       "      <td>0.846791</td>\n",
       "      <td>0.811128</td>\n",
       "      <td>0.035663</td>\n",
       "    </tr>\n",
       "    <tr>\n",
       "      <th>7</th>\n",
       "      <td>0.014457</td>\n",
       "      <td>1.146793e-02</td>\n",
       "      <td>0.010989</td>\n",
       "      <td>3.997207e-03</td>\n",
       "      <td>8</td>\n",
       "      <td>{'model__n_neighbors': 8}</td>\n",
       "      <td>0.464859</td>\n",
       "      <td>0.503138</td>\n",
       "      <td>0.483999</td>\n",
       "      <td>0.019139</td>\n",
       "      <td>8</td>\n",
       "      <td>0.760893</td>\n",
       "      <td>0.818340</td>\n",
       "      <td>0.789616</td>\n",
       "      <td>0.028723</td>\n",
       "    </tr>\n",
       "    <tr>\n",
       "      <th>8</th>\n",
       "      <td>0.003000</td>\n",
       "      <td>2.012491e-03</td>\n",
       "      <td>0.004481</td>\n",
       "      <td>1.520991e-03</td>\n",
       "      <td>9</td>\n",
       "      <td>{'model__n_neighbors': 9}</td>\n",
       "      <td>0.470731</td>\n",
       "      <td>0.491811</td>\n",
       "      <td>0.481271</td>\n",
       "      <td>0.010540</td>\n",
       "      <td>10</td>\n",
       "      <td>0.761536</td>\n",
       "      <td>0.796669</td>\n",
       "      <td>0.779102</td>\n",
       "      <td>0.017567</td>\n",
       "    </tr>\n",
       "    <tr>\n",
       "      <th>9</th>\n",
       "      <td>0.001995</td>\n",
       "      <td>9.981394e-04</td>\n",
       "      <td>0.004782</td>\n",
       "      <td>7.883310e-04</td>\n",
       "      <td>10</td>\n",
       "      <td>{'model__n_neighbors': 10}</td>\n",
       "      <td>0.479593</td>\n",
       "      <td>0.488302</td>\n",
       "      <td>0.483948</td>\n",
       "      <td>0.004355</td>\n",
       "      <td>9</td>\n",
       "      <td>0.748984</td>\n",
       "      <td>0.782848</td>\n",
       "      <td>0.765916</td>\n",
       "      <td>0.016932</td>\n",
       "    </tr>\n",
       "  </tbody>\n",
       "</table>\n",
       "</div>"
      ],
      "text/plain": [
       "   mean_fit_time  std_fit_time  mean_score_time  std_score_time  \\\n",
       "0       0.002488  4.962683e-04         0.003988    5.960464e-07   \n",
       "1       0.001996  5.960464e-07         0.003495    4.920959e-04   \n",
       "2       0.002988  1.990199e-03         0.022939    1.795316e-02   \n",
       "3       0.007976  3.986239e-03         0.009486    4.478931e-03   \n",
       "4       0.003004  9.871721e-04         0.014450    1.048362e-02   \n",
       "5       0.002987  2.001524e-03         0.007484    4.974604e-04   \n",
       "6       0.002010  9.818077e-04         0.003475    1.511097e-03   \n",
       "7       0.014457  1.146793e-02         0.010989    3.997207e-03   \n",
       "8       0.003000  2.012491e-03         0.004481    1.520991e-03   \n",
       "9       0.001995  9.981394e-04         0.004782    7.883310e-04   \n",
       "\n",
       "  param_model__n_neighbors                      params  split0_test_score  \\\n",
       "0                        1   {'model__n_neighbors': 1}           0.592596   \n",
       "1                        2   {'model__n_neighbors': 2}           0.595784   \n",
       "2                        3   {'model__n_neighbors': 3}           0.621287   \n",
       "3                        4   {'model__n_neighbors': 4}           0.612235   \n",
       "4                        5   {'model__n_neighbors': 5}           0.562667   \n",
       "5                        6   {'model__n_neighbors': 6}           0.533580   \n",
       "6                        7   {'model__n_neighbors': 7}           0.479205   \n",
       "7                        8   {'model__n_neighbors': 8}           0.464859   \n",
       "8                        9   {'model__n_neighbors': 9}           0.470731   \n",
       "9                       10  {'model__n_neighbors': 10}           0.479593   \n",
       "\n",
       "   split1_test_score  mean_test_score  std_test_score  rank_test_score  \\\n",
       "0           0.507079         0.549837        0.042759                4   \n",
       "1           0.520845         0.558315        0.037469                3   \n",
       "2           0.546187         0.583737        0.037550                1   \n",
       "3           0.524459         0.568347        0.043888                2   \n",
       "4           0.520362         0.541514        0.021152                5   \n",
       "5           0.518775         0.526177        0.007402                6   \n",
       "6           0.507968         0.493587        0.014381                7   \n",
       "7           0.503138         0.483999        0.019139                8   \n",
       "8           0.491811         0.481271        0.010540               10   \n",
       "9           0.488302         0.483948        0.004355                9   \n",
       "\n",
       "   split0_train_score  split1_train_score  mean_train_score  std_train_score  \n",
       "0            1.000000            1.000000          1.000000         0.000000  \n",
       "1            0.924254            0.943121          0.933687         0.009433  \n",
       "2            0.874114            0.930928          0.902521         0.028407  \n",
       "3            0.860737            0.925390          0.893063         0.032327  \n",
       "4            0.835872            0.899671          0.867772         0.031900  \n",
       "5            0.800246            0.877414          0.838830         0.038584  \n",
       "6            0.775465            0.846791          0.811128         0.035663  \n",
       "7            0.760893            0.818340          0.789616         0.028723  \n",
       "8            0.761536            0.796669          0.779102         0.017567  \n",
       "9            0.748984            0.782848          0.765916         0.016932  "
      ]
     },
     "execution_count": 125,
     "metadata": {},
     "output_type": "execute_result"
    }
   ],
   "source": [
    "pd.DataFrame(model_G.cv_results_)"
   ]
  },
  {
   "cell_type": "code",
   "execution_count": 126,
   "metadata": {},
   "outputs": [
    {
     "data": {
      "text/plain": [
       "<matplotlib.collections.PathCollection at 0x2b2aaf3ef98>"
      ]
     },
     "execution_count": 126,
     "metadata": {},
     "output_type": "execute_result"
    },
    {
     "data": {
      "image/png": "[encoded data removed]",
      "text/plain": [
       "<Figure size 432x288 with 1 Axes>"
      ]
     },
     "metadata": {
      "needs_background": "light"
     },
     "output_type": "display_data"
    }
   ],
   "source": [
    "pipe = Pipeline([\n",
    "    (\"scale\", StandardScaler()),\n",
    "    (\"model\",KNeighborsRegressor(n_neighbors=3))\n",
    "])\n",
    "pipe.fit(X, y)\n",
    "pred = pipe.predict(X)\n",
    "plt.scatter(pred, y)"
   ]
  },
  {
   "cell_type": "code",
   "execution_count": null,
   "metadata": {},
   "outputs": [],
   "source": []
  }
 ],
 "metadata": {
  "kernelspec": {
   "display_name": "Python 3",
   "language": "python",
   "name": "python3"
  },
  "language_info": {
   "codemirror_mode": {
    "name": "ipython",
    "version": 3
   },
   "file_extension": ".py",
   "mimetype": "text/x-python",
   "name": "python",
   "nbconvert_exporter": "python",
   "pygments_lexer": "ipython3",
   "version": "3.7.0"
  }
 },
 "nbformat": 4,
 "nbformat_minor": 2
}
